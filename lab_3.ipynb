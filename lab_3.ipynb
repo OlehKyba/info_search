{
 "cells": [
  {
   "cell_type": "markdown",
   "metadata": {
    "collapsed": true
   },
   "source": [
    "# Практичне зайняття 3. Двословний індекс і координатний інвертований індекс\n",
    "\n",
    "\n",
    "* Побудувати двословний індекс і координатний інвертований індекс по колекції документів.\n",
    "* Реалізувати фразовий пошук та пошук з урахуванням відстані для кожного з них."
   ]
  },
  {
   "cell_type": "markdown",
   "metadata": {},
   "source": [
    "### Ініціалізуємо бібліотеку NLTK"
   ]
  },
  {
   "cell_type": "code",
   "execution_count": 1,
   "metadata": {},
   "outputs": [
    {
     "name": "stderr",
     "output_type": "stream",
     "text": [
      "[nltk_data] Downloading package punkt to /home/o.kyba/nltk_data...\n",
      "[nltk_data]   Package punkt is already up-to-date!\n"
     ]
    }
   ],
   "source": [
    "from info_search.lab_1.nltk_utils import init_nltk\n",
    "\n",
    "init_nltk()"
   ]
  },
  {
   "cell_type": "markdown",
   "metadata": {},
   "source": [
    "## Двословний індекс\n",
    "\n",
    "Для виконання завадння з побудови двослівного індексу було написано нову функцію для парсингу термінів, щоб фона повертала термін, який склдається з двох слів (`info_search.lab_3.two_words_index.parse_terms_for_2_words_index`). Також було прийнято рішення відмовитися від стоп слів, щоб коректно реалізувати фразовий пошук."
   ]
  },
  {
   "cell_type": "markdown",
   "metadata": {},
   "source": [
    "### Побудуємо лекскон та двослівний індекс\n",
    "\n",
    "За рахунок того, що тепер у нас термін складється з двох слів, ми можемо перевикористати клас однослівного інвертованого індексу для поббулови двослівного."
   ]
  },
  {
   "cell_type": "code",
   "execution_count": 2,
   "metadata": {},
   "outputs": [
    {
     "name": "stderr",
     "output_type": "stream",
     "text": [
      "  0%|          | 0/10 [00:00<?, ?it/s]/home/o.kyba/PycharmProjects/info_search/venv/lib/python3.11/site-packages/ebooklib/epub.py:1395: UserWarning: In the future version we will turn default option ignore_ncx to True.\n",
      "  warnings.warn('In the future version we will turn default option ignore_ncx to True.')\n",
      "100%|██████████| 10/10 [00:57<00:00,  5.71s/it]\n"
     ]
    }
   ],
   "source": [
    "from pymorphy3 import MorphAnalyzer\n",
    "\n",
    "from info_search.lab_1.lexicon import Lexicon\n",
    "from info_search.lab_1.nltk_utils import init_nltk\n",
    "from info_search.lab_1.preprocessing import WordsNormalizer, WordsTokenizer\n",
    "from info_search.lab_1.readers import EpubReader\n",
    "from info_search.lab_2.inverted_index import (\n",
    "    InvertedIndexBuilder,\n",
    "    InvertedIndexQueryExecutor,\n",
    ")\n",
    "\n",
    "from info_search.lab_3.two_words_index import parse_terms_for_2_words_index\n",
    "\n",
    "books = (\n",
    "    \"books/451-za-farengeytom.epub\",\n",
    "    \"books/1984.epub\",\n",
    "    \"books/atlant-rozpraviv-pliechi-1.epub\",\n",
    "    \"books/atlant-rozpraviv-pliechi-2.epub\",\n",
    "    \"books/atlant-rozpraviv-pliechi-3.epub\",\n",
    "    \"books/haksli-oldos-prekrasnyy-novyy-svit.epub\",\n",
    "    \"books/kulbabove-vino.epub\",\n",
    "    \"books/na-zakhidnomu-fronti-bez-zmin.epub\",\n",
    "    \"books/proshchavai-zbroie.epub\",\n",
    "    \"books/sapients-istoriya-lyudstva.epub\",\n",
    ")\n",
    "\n",
    "reader = EpubReader(books)\n",
    "tokenaizer = WordsTokenizer(stop_words=[])\n",
    "normalizer = WordsNormalizer(MorphAnalyzer(lang=\"uk\"))\n",
    "lexicon = Lexicon()\n",
    "two_words_idx_builder = InvertedIndexBuilder()\n",
    "\n",
    "for doc_name, term in parse_terms_for_2_words_index(reader, tokenaizer, normalizer):\n",
    "    doc_id, term_id = lexicon.add_term(doc_name, term)\n",
    "    two_words_idx_builder.add_term(doc_id, term_id)\n",
    "\n",
    "two_words_idx = two_words_idx_builder.build()"
   ]
  },
  {
   "cell_type": "markdown",
   "metadata": {},
   "source": [
    "### Фразовий пошук\n",
    "\n",
    "За допомгою двослівного індексу, було реалізовано фразовий пошук. У класі `info_search.lab_3.two_words_index.TwoWordsIndexQueryExecutor` виконується препроцесінг запиту, а саме - розбиття запиту на двослівні терміни. Шукаються всі документи для цих термінів, а на постобробці - ці результати об'єднуються за схожим алгортимом, що був використаний для реалізації оператору `AND` в булевому пошуку."
   ]
  },
  {
   "cell_type": "code",
   "execution_count": 7,
   "metadata": {},
   "outputs": [
    {
     "name": "stdout",
     "output_type": "stream",
     "text": [
      "Документи, де є 'Даґні Таґґарт': ['atlant-rozpraviv-pliechi-1.epub/ch1-13.xhtml', 'atlant-rozpraviv-pliechi-1.epub/ch1-15.xhtml', 'atlant-rozpraviv-pliechi-1.epub/ch1-12.xhtml', 'atlant-rozpraviv-pliechi-1.epub/ch1-18.xhtml', 'atlant-rozpraviv-pliechi-1.epub/ch1-17.xhtml', 'atlant-rozpraviv-pliechi-1.epub/ch1-20.xhtml', 'atlant-rozpraviv-pliechi-1.epub/ch1-25.xhtml', 'atlant-rozpraviv-pliechi-1.epub/ch1-1.xhtml', 'atlant-rozpraviv-pliechi-1.epub/ch1-3.xhtml', 'atlant-rozpraviv-pliechi-1.epub/ch1-5.xhtml', 'atlant-rozpraviv-pliechi-1.epub/ch1-2.xhtml', 'atlant-rozpraviv-pliechi-1.epub/ch1-9.xhtml', 'atlant-rozpraviv-pliechi-2.epub/ch1-16.xhtml', 'atlant-rozpraviv-pliechi-2.epub/ch1-13.xhtml', 'atlant-rozpraviv-pliechi-2.epub/ch1-27.xhtml', 'atlant-rozpraviv-pliechi-2.epub/ch1-26.xhtml', 'atlant-rozpraviv-pliechi-2.epub/ch1-25.xhtml', 'atlant-rozpraviv-pliechi-2.epub/ch1-1.xhtml', 'atlant-rozpraviv-pliechi-2.epub/ch1-8.xhtml', 'atlant-rozpraviv-pliechi-2.epub/ch1-5.xhtml', 'atlant-rozpraviv-pliechi-2.epub/ch1-7.xhtml', 'atlant-rozpraviv-pliechi-3.epub/ch1-11.xhtml', 'atlant-rozpraviv-pliechi-3.epub/ch1-16.xhtml', 'atlant-rozpraviv-pliechi-3.epub/ch1-12.xhtml', 'atlant-rozpraviv-pliechi-3.epub/ch1-18.xhtml', 'atlant-rozpraviv-pliechi-3.epub/ch1-23.xhtml', 'atlant-rozpraviv-pliechi-3.epub/ch1-29.xhtml', 'atlant-rozpraviv-pliechi-3.epub/ch1-28.xhtml', 'atlant-rozpraviv-pliechi-3.epub/ch1-7.xhtml', 'atlant-rozpraviv-pliechi-3.epub/ch1-34.xhtml']\n",
      "\n",
      "Документи, де є 'міс Таґґарт': ['atlant-rozpraviv-pliechi-1.epub/ch1-14.xhtml', 'atlant-rozpraviv-pliechi-1.epub/ch1-13.xhtml', 'atlant-rozpraviv-pliechi-1.epub/ch1-15.xhtml', 'atlant-rozpraviv-pliechi-1.epub/ch1-12.xhtml', 'atlant-rozpraviv-pliechi-1.epub/ch1-18.xhtml', 'atlant-rozpraviv-pliechi-1.epub/ch1-17.xhtml', 'atlant-rozpraviv-pliechi-1.epub/ch1-24.xhtml', 'atlant-rozpraviv-pliechi-1.epub/ch1-25.xhtml', 'atlant-rozpraviv-pliechi-1.epub/ch1-3.xhtml', 'atlant-rozpraviv-pliechi-1.epub/ch1-5.xhtml', 'atlant-rozpraviv-pliechi-1.epub/ch1-2.xhtml', 'atlant-rozpraviv-pliechi-1.epub/ch1-9.xhtml', 'atlant-rozpraviv-pliechi-2.epub/ch1-16.xhtml', 'atlant-rozpraviv-pliechi-2.epub/ch1-13.xhtml', 'atlant-rozpraviv-pliechi-2.epub/ch1-19.xhtml', 'atlant-rozpraviv-pliechi-2.epub/ch1-12.xhtml', 'atlant-rozpraviv-pliechi-2.epub/ch1-18.xhtml', 'atlant-rozpraviv-pliechi-2.epub/ch1-22.xhtml', 'atlant-rozpraviv-pliechi-2.epub/ch1-27.xhtml', 'atlant-rozpraviv-pliechi-2.epub/ch1-23.xhtml', 'atlant-rozpraviv-pliechi-2.epub/ch1-26.xhtml', 'atlant-rozpraviv-pliechi-2.epub/ch1-1.xhtml', 'atlant-rozpraviv-pliechi-2.epub/ch1-8.xhtml', 'atlant-rozpraviv-pliechi-2.epub/ch1-5.xhtml', 'atlant-rozpraviv-pliechi-2.epub/ch1-2.xhtml', 'atlant-rozpraviv-pliechi-2.epub/ch1-4.xhtml', 'atlant-rozpraviv-pliechi-3.epub/ch1-14.xhtml', 'atlant-rozpraviv-pliechi-3.epub/ch1-11.xhtml', 'atlant-rozpraviv-pliechi-3.epub/ch1-13.xhtml', 'atlant-rozpraviv-pliechi-3.epub/ch1-12.xhtml', 'atlant-rozpraviv-pliechi-3.epub/ch1-18.xhtml', 'atlant-rozpraviv-pliechi-3.epub/ch1-17.xhtml', 'atlant-rozpraviv-pliechi-3.epub/ch1-23.xhtml', 'atlant-rozpraviv-pliechi-3.epub/ch1-29.xhtml', 'atlant-rozpraviv-pliechi-3.epub/ch1-28.xhtml', 'atlant-rozpraviv-pliechi-3.epub/ch1-3.xhtml', 'atlant-rozpraviv-pliechi-3.epub/ch1-8.xhtml', 'atlant-rozpraviv-pliechi-3.epub/ch1-30.xhtml', 'atlant-rozpraviv-pliechi-3.epub/ch1-5.xhtml', 'atlant-rozpraviv-pliechi-3.epub/ch1-2.xhtml', 'atlant-rozpraviv-pliechi-3.epub/ch1-32.xhtml', 'atlant-rozpraviv-pliechi-3.epub/ch1-7.xhtml', 'atlant-rozpraviv-pliechi-3.epub/ch1-4.xhtml', 'atlant-rozpraviv-pliechi-3.epub/ch1-6.xhtml', 'atlant-rozpraviv-pliechi-3.epub/ch1-9.xhtml']\n",
      "\n",
      "Документи, де є 'світ тримається на самих лише м’язах': ['atlant-rozpraviv-pliechi-1.epub/ch1-14.xhtml']\n",
      "\n"
     ]
    }
   ],
   "source": [
    "from info_search.lab_3.two_words_index import TwoWordsIndexQueryExecutor\n",
    "\n",
    "executor = TwoWordsIndexQueryExecutor(two_words_idx, lexicon, tokenaizer, normalizer)\n",
    "\n",
    "docs_1 = executor.search(\"Даґні Таґґарт\")\n",
    "docs_2 = executor.search(\"міс Таґґарт\")\n",
    "docs_3 = executor.search(\"тримається на самих лише м’язах\")\n",
    "\n",
    "print(f\"Документи, де є 'Даґні Таґґарт': {docs_1}\\n\")\n",
    "print(f\"Документи, де є 'міс Таґґарт': {docs_2}\\n\")\n",
    "print(f\"Документи, де є 'світ тримається на самих лише м’язах': {docs_3}\\n\")"
   ]
  },
  {
   "cell_type": "markdown",
   "metadata": {},
   "source": [
    "## Координатний індекс"
   ]
  },
  {
   "cell_type": "code",
   "execution_count": null,
   "metadata": {},
   "outputs": [],
   "source": []
  }
 ],
 "metadata": {
  "kernelspec": {
   "display_name": "Python 3 (ipykernel)",
   "language": "python",
   "name": "python3"
  },
  "language_info": {
   "codemirror_mode": {
    "name": "ipython",
    "version": 3
   },
   "file_extension": ".py",
   "mimetype": "text/x-python",
   "name": "python",
   "nbconvert_exporter": "python",
   "pygments_lexer": "ipython3",
   "version": "3.11.1"
  }
 },
 "nbformat": 4,
 "nbformat_minor": 1
}
